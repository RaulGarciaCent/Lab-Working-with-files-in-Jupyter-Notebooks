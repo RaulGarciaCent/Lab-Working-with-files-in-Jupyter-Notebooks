{
 "cells": [
  {
   "cell_type": "markdown",
   "id": "039f2ca2-bcd8-4e25-ae12-f04255755e8f",
   "metadata": {},
   "source": [
    "# H1 Data Science tools and Ecosystem"
   ]
  },
  {
   "cell_type": "markdown",
   "id": "59d584b8-b9d3-4707-b69e-e1793a192747",
   "metadata": {},
   "source": [
    "In this notebook, Data Science Tools and ecosystem are summarized."
   ]
  },
  {
   "cell_type": "markdown",
   "id": "b355f952-8783-43c4-8138-03eb1a8e298a",
   "metadata": {},
   "source": [
    "Objectives:\n",
    "- List Data Science languages and Data Science Libraries.\n",
    "- List Data Science Tools\n",
    "- Arithmetic Expressions Examples."
   ]
  },
  {
   "cell_type": "markdown",
   "id": "060560f2-2bcd-4baa-a54c-7727096e2f6b",
   "metadata": {},
   "source": [
    "- Some of the popular languages that data scientists use are:\n",
    "1. Python\n",
    "2. R\n",
    "3. SQL\n",
    "4. Julia"
   ]
  },
  {
   "cell_type": "markdown",
   "id": "79447d89-62de-4fde-97c2-cdf2d4e4b860",
   "metadata": {},
   "source": [
    "- Some of the commonly used libraryes used by Data Science are:\n",
    "1. Pandas\n",
    "2. NumPy\n",
    "3. Matplotlib\n",
    "4. Scikit-learn\n"
   ]
  },
  {
   "cell_type": "markdown",
   "id": "e07b206b-9bfc-4cf5-892b-7a4db6342f42",
   "metadata": {},
   "source": [
    "- Some of the Data Science Tools are:"
   ]
  },
  {
   "cell_type": "markdown",
   "id": "50e50657-6630-4fa9-b95a-f8ec918aa9b3",
   "metadata": {},
   "source": [
    "|Data Science Tools|\n",
    "|------------------|\n",
    "|Jupyter Notebook   |\n",
    "|Pandas             |\n",
    "|RStudio            |"
   ]
  },
  {
   "cell_type": "markdown",
   "id": "dacc0d38-e9b6-45f0-8658-45af79990b2c",
   "metadata": {},
   "source": [
    "# H3 Below are a few examples of evaluating arithmetic expressions in Python."
   ]
  },
  {
   "cell_type": "code",
   "execution_count": 3,
   "id": "7df9ee8f-b7cd-4754-9526-f4d02e32497c",
   "metadata": {},
   "outputs": [
    {
     "data": {
      "text/plain": [
       "17"
      ]
     },
     "execution_count": 3,
     "metadata": {},
     "output_type": "execute_result"
    }
   ],
   "source": [
    "# This a simple arithmetic expression to multiply then add integers.\n",
    "(3*4)+5"
   ]
  },
  {
   "cell_type": "code",
   "execution_count": 4,
   "id": "b6a017b1-527f-48fa-aa20-ccdb6c88baa4",
   "metadata": {},
   "outputs": [
    {
     "data": {
      "text/plain": [
       "3.3333333333333335"
      ]
     },
     "execution_count": 4,
     "metadata": {},
     "output_type": "execute_result"
    }
   ],
   "source": [
    "# This will convert 200 minutes to hours by diving by 60.\n",
    "200/60"
   ]
  },
  {
   "cell_type": "markdown",
   "id": "5fd608df-a2e5-4163-8f27-d0015a83e9f6",
   "metadata": {},
   "source": [
    "# H2 Author: Raül García Centelles"
   ]
  }
 ],
 "metadata": {
  "kernelspec": {
   "display_name": "Python 3 (ipykernel)",
   "language": "python",
   "name": "python3"
  },
  "language_info": {
   "codemirror_mode": {
    "name": "ipython",
    "version": 3
   },
   "file_extension": ".py",
   "mimetype": "text/x-python",
   "name": "python",
   "nbconvert_exporter": "python",
   "pygments_lexer": "ipython3",
   "version": "3.11.9"
  }
 },
 "nbformat": 4,
 "nbformat_minor": 5
}
